{
  "nbformat": 4,
  "nbformat_minor": 0,
  "metadata": {
    "colab": {
      "name": "CSE499A - Tanvir.ipynb",
      "provenance": [],
      "collapsed_sections": []
    },
    "kernelspec": {
      "name": "python3",
      "display_name": "Python 3"
    },
    "accelerator": "GPU"
  },
  "cells": [
    {
      "cell_type": "code",
      "metadata": {
        "id": "CR8P1VLqlbxK",
        "colab_type": "code",
        "colab": {}
      },
      "source": [
        "# Reading data from google drive\n",
        "!pip install -U -q PyDrive\n",
        "\n",
        "from pydrive.auth import GoogleAuth\n",
        "from pydrive.drive import GoogleDrive\n",
        "from google.colab import auth\n",
        "from oauth2client.client import GoogleCredentials\n",
        "\n",
        "# Authenticating and creating the Drive client\n",
        "auth.authenticate_user()\n",
        "gauth = GoogleAuth()\n",
        "gauth.credentials = GoogleCredentials.get_application_default()\n",
        "drive = GoogleDrive(gauth)"
      ],
      "execution_count": 0,
      "outputs": []
    },
    {
      "cell_type": "code",
      "metadata": {
        "id": "MIM8QYGXRgxf",
        "colab_type": "code",
        "colab": {}
      },
      "source": [
        "# The sharing URL: https://drive.google.com/open?id=13LZcIgT0m4SafyGE3nfOlIjF6Hvlfyw7\n",
        "\n",
        "df = drive.CreateFile({'id': '13LZcIgT0m4SafyGE3nfOlIjF6Hvlfyw7'})\n",
        "df.GetContentFile('roads.zip')\n",
        "\n",
        "!unzip roads.zip"
      ],
      "execution_count": 0,
      "outputs": []
    },
    {
      "cell_type": "code",
      "metadata": {
        "id": "46JzeTQKyaDT",
        "colab_type": "code",
        "colab": {}
      },
      "source": [
        "import tensorflow as tf\n",
        "import numpy as np\n",
        "import glob\n",
        "\n",
        "bad = glob.glob('roads/bad/*.*')\n",
        "good = glob.glob('roads/good/*.*')\n",
        "\n",
        "Arr = []\n",
        "Y = []\n",
        "\n",
        "for i in bad:   \n",
        "    image=tf.keras.preprocessing.image.load_img(i, color_mode='rgb', \n",
        "    target_size= (400,300))\n",
        "    image=np.array(image)\n",
        "    Arr.append(image)\n",
        "    Y.append(0)\n",
        "\n",
        "for i in good:   \n",
        "    image=tf.keras.preprocessing.image.load_img(i, color_mode='rgb', \n",
        "    target_size= (400,300))\n",
        "    image=np.array(image)\n",
        "    Arr.append(image)\n",
        "    Y.append(1)"
      ],
      "execution_count": 0,
      "outputs": []
    },
    {
      "cell_type": "code",
      "metadata": {
        "id": "n2qJ2ug80YzP",
        "colab_type": "code",
        "colab": {}
      },
      "source": [
        "Arr = np.array(Arr)\n",
        "Y = np.array(Y)"
      ],
      "execution_count": 0,
      "outputs": []
    },
    {
      "cell_type": "code",
      "metadata": {
        "id": "D199oPbw0kVi",
        "colab_type": "code",
        "outputId": "a16e94b1-53d0-415f-b00f-6d596cc27a4c",
        "colab": {
          "base_uri": "https://localhost:8080/",
          "height": 34
        }
      },
      "source": [
        "Arr.shape"
      ],
      "execution_count": 0,
      "outputs": [
        {
          "output_type": "execute_result",
          "data": {
            "text/plain": [
              "(592, 400, 300, 3)"
            ]
          },
          "metadata": {
            "tags": []
          },
          "execution_count": 6
        }
      ]
    },
    {
      "cell_type": "code",
      "metadata": {
        "id": "tY0V5rGn0xko",
        "colab_type": "code",
        "colab": {}
      },
      "source": [
        "import pandas as pd\n",
        "Y = pd.get_dummies(Y).to_numpy()"
      ],
      "execution_count": 0,
      "outputs": []
    },
    {
      "cell_type": "code",
      "metadata": {
        "id": "wTR0hwbD2GZ8",
        "colab_type": "code",
        "outputId": "f6396c8e-8ce3-4b7b-a1cc-3a94720210f7",
        "colab": {
          "base_uri": "https://localhost:8080/",
          "height": 34
        }
      },
      "source": [
        "Y.shape"
      ],
      "execution_count": 0,
      "outputs": [
        {
          "output_type": "execute_result",
          "data": {
            "text/plain": [
              "(592, 2)"
            ]
          },
          "metadata": {
            "tags": []
          },
          "execution_count": 8
        }
      ]
    },
    {
      "cell_type": "code",
      "metadata": {
        "id": "d6AY11nR2Kbu",
        "colab_type": "code",
        "outputId": "36fed555-a858-46c3-fe23-04dac86a99ef",
        "colab": {
          "base_uri": "https://localhost:8080/",
          "height": 34
        }
      },
      "source": [
        "import keras\n",
        "from keras.layers import Dense, Conv2D, BatchNormalization, Activation\n",
        "from keras.layers import AveragePooling2D, Input, Flatten\n",
        "from keras.optimizers import Adam\n",
        "from keras.regularizers import l2\n",
        "from keras.models import Model"
      ],
      "execution_count": 0,
      "outputs": [
        {
          "output_type": "stream",
          "text": [
            "Using TensorFlow backend.\n"
          ],
          "name": "stderr"
        }
      ]
    },
    {
      "cell_type": "code",
      "metadata": {
        "id": "7zImmJnW3O-t",
        "colab_type": "code",
        "colab": {}
      },
      "source": [
        "## building the network\n",
        "def resnet_layer(inputs,num_filters=16,kernel_size=3,strides=1,activation='relu',batch_normalization=True,conv_first=True):\n",
        "     \n",
        "    conv = Conv2D(num_filters,kernel_size=kernel_size,strides=strides,padding='same',kernel_initializer='he_normal',kernel_regularizer=l2(1e-4))\n",
        "\n",
        "    x = inputs\n",
        "    if conv_first:\n",
        "        x = conv(x)\n",
        "        if batch_normalization:\n",
        "            x = BatchNormalization()(x)\n",
        "        if activation is not None:\n",
        "            x = Activation(activation)(x)\n",
        "    else:\n",
        "        if batch_normalization:\n",
        "            x = BatchNormalization()(x)\n",
        "        if activation is not None:\n",
        "            x = Activation(activation)(x)\n",
        "        x = conv(x)\n",
        "    return x"
      ],
      "execution_count": 0,
      "outputs": []
    },
    {
      "cell_type": "code",
      "metadata": {
        "id": "miqUnLAw3R_F",
        "colab_type": "code",
        "colab": {}
      },
      "source": [
        "def resnet_v1(input_shape, depth, num_classes=2):\n",
        "    \n",
        "    if (depth - 2) % 6 != 0:\n",
        "        raise ValueError('depth should be 6n+2 (eg 20, 32, 44 in [a])')\n",
        "    # Start model definition.\n",
        "    num_filters = 16\n",
        "    num_res_blocks = int((depth - 2) / 6)\n",
        "\n",
        "    inputs = Input(shape=input_shape)\n",
        "    x = resnet_layer(inputs=inputs)\n",
        "    # Instantiate the stack of residual units\n",
        "    for stack in range(3):\n",
        "        for res_block in range(num_res_blocks):\n",
        "            strides = 1\n",
        "            if stack > 0 and res_block == 0:  # first layer but not first stack\n",
        "                strides = 2  # downsample\n",
        "            y = resnet_layer(inputs=x,num_filters=num_filters,strides=strides)\n",
        "            y = resnet_layer(inputs=y,num_filters=num_filters,activation=None)\n",
        "            if stack > 0 and res_block == 0:  # first layer but not first stack\n",
        "                # linear projection residual shortcut connection to match\n",
        "                # changed dims\n",
        "                x = resnet_layer(inputs=x,num_filters=num_filters,kernel_size=1,strides=strides,activation=None,batch_normalization=False)\n",
        "            x = keras.layers.add([x, y])\n",
        "            x = Activation('relu')(x)\n",
        "        num_filters *= 2\n",
        "\n",
        "    # Add classifier on top.\n",
        "    # v1 does not use BN after last shortcut connection-ReLU\n",
        "    x = AveragePooling2D(pool_size=8)(x)\n",
        "    y = Flatten()(x)\n",
        "    outputs = Dense(num_classes,\n",
        "                    activation='softmax',\n",
        "                    kernel_initializer='he_normal')(y)\n",
        "\n",
        "    # Instantiate model.\n",
        "    model = Model(inputs=inputs, outputs=outputs)\n",
        "    return model"
      ],
      "execution_count": 0,
      "outputs": []
    },
    {
      "cell_type": "code",
      "metadata": {
        "id": "F_ev7Bhm3Ux1",
        "colab_type": "code",
        "colab": {}
      },
      "source": [
        "model = resnet_v1(input_shape=(400,300,3), depth=32)"
      ],
      "execution_count": 0,
      "outputs": []
    },
    {
      "cell_type": "code",
      "metadata": {
        "id": "VLEfd_-O3blb",
        "colab_type": "code",
        "outputId": "f9146986-587b-4c67-e83a-a9dfed1c5ece",
        "colab": {
          "base_uri": "https://localhost:8080/",
          "height": 1000
        }
      },
      "source": [
        "model.summary()"
      ],
      "execution_count": 0,
      "outputs": [
        {
          "output_type": "stream",
          "text": [
            "Model: \"model_1\"\n",
            "__________________________________________________________________________________________________\n",
            "Layer (type)                    Output Shape         Param #     Connected to                     \n",
            "==================================================================================================\n",
            "input_1 (InputLayer)            (None, 400, 300, 3)  0                                            \n",
            "__________________________________________________________________________________________________\n",
            "conv2d_1 (Conv2D)               (None, 400, 300, 16) 448         input_1[0][0]                    \n",
            "__________________________________________________________________________________________________\n",
            "batch_normalization_1 (BatchNor (None, 400, 300, 16) 64          conv2d_1[0][0]                   \n",
            "__________________________________________________________________________________________________\n",
            "activation_1 (Activation)       (None, 400, 300, 16) 0           batch_normalization_1[0][0]      \n",
            "__________________________________________________________________________________________________\n",
            "conv2d_2 (Conv2D)               (None, 400, 300, 16) 2320        activation_1[0][0]               \n",
            "__________________________________________________________________________________________________\n",
            "batch_normalization_2 (BatchNor (None, 400, 300, 16) 64          conv2d_2[0][0]                   \n",
            "__________________________________________________________________________________________________\n",
            "activation_2 (Activation)       (None, 400, 300, 16) 0           batch_normalization_2[0][0]      \n",
            "__________________________________________________________________________________________________\n",
            "conv2d_3 (Conv2D)               (None, 400, 300, 16) 2320        activation_2[0][0]               \n",
            "__________________________________________________________________________________________________\n",
            "batch_normalization_3 (BatchNor (None, 400, 300, 16) 64          conv2d_3[0][0]                   \n",
            "__________________________________________________________________________________________________\n",
            "add_1 (Add)                     (None, 400, 300, 16) 0           activation_1[0][0]               \n",
            "                                                                 batch_normalization_3[0][0]      \n",
            "__________________________________________________________________________________________________\n",
            "activation_3 (Activation)       (None, 400, 300, 16) 0           add_1[0][0]                      \n",
            "__________________________________________________________________________________________________\n",
            "conv2d_4 (Conv2D)               (None, 400, 300, 16) 2320        activation_3[0][0]               \n",
            "__________________________________________________________________________________________________\n",
            "batch_normalization_4 (BatchNor (None, 400, 300, 16) 64          conv2d_4[0][0]                   \n",
            "__________________________________________________________________________________________________\n",
            "activation_4 (Activation)       (None, 400, 300, 16) 0           batch_normalization_4[0][0]      \n",
            "__________________________________________________________________________________________________\n",
            "conv2d_5 (Conv2D)               (None, 400, 300, 16) 2320        activation_4[0][0]               \n",
            "__________________________________________________________________________________________________\n",
            "batch_normalization_5 (BatchNor (None, 400, 300, 16) 64          conv2d_5[0][0]                   \n",
            "__________________________________________________________________________________________________\n",
            "add_2 (Add)                     (None, 400, 300, 16) 0           activation_3[0][0]               \n",
            "                                                                 batch_normalization_5[0][0]      \n",
            "__________________________________________________________________________________________________\n",
            "activation_5 (Activation)       (None, 400, 300, 16) 0           add_2[0][0]                      \n",
            "__________________________________________________________________________________________________\n",
            "conv2d_6 (Conv2D)               (None, 400, 300, 16) 2320        activation_5[0][0]               \n",
            "__________________________________________________________________________________________________\n",
            "batch_normalization_6 (BatchNor (None, 400, 300, 16) 64          conv2d_6[0][0]                   \n",
            "__________________________________________________________________________________________________\n",
            "activation_6 (Activation)       (None, 400, 300, 16) 0           batch_normalization_6[0][0]      \n",
            "__________________________________________________________________________________________________\n",
            "conv2d_7 (Conv2D)               (None, 400, 300, 16) 2320        activation_6[0][0]               \n",
            "__________________________________________________________________________________________________\n",
            "batch_normalization_7 (BatchNor (None, 400, 300, 16) 64          conv2d_7[0][0]                   \n",
            "__________________________________________________________________________________________________\n",
            "add_3 (Add)                     (None, 400, 300, 16) 0           activation_5[0][0]               \n",
            "                                                                 batch_normalization_7[0][0]      \n",
            "__________________________________________________________________________________________________\n",
            "activation_7 (Activation)       (None, 400, 300, 16) 0           add_3[0][0]                      \n",
            "__________________________________________________________________________________________________\n",
            "conv2d_8 (Conv2D)               (None, 400, 300, 16) 2320        activation_7[0][0]               \n",
            "__________________________________________________________________________________________________\n",
            "batch_normalization_8 (BatchNor (None, 400, 300, 16) 64          conv2d_8[0][0]                   \n",
            "__________________________________________________________________________________________________\n",
            "activation_8 (Activation)       (None, 400, 300, 16) 0           batch_normalization_8[0][0]      \n",
            "__________________________________________________________________________________________________\n",
            "conv2d_9 (Conv2D)               (None, 400, 300, 16) 2320        activation_8[0][0]               \n",
            "__________________________________________________________________________________________________\n",
            "batch_normalization_9 (BatchNor (None, 400, 300, 16) 64          conv2d_9[0][0]                   \n",
            "__________________________________________________________________________________________________\n",
            "add_4 (Add)                     (None, 400, 300, 16) 0           activation_7[0][0]               \n",
            "                                                                 batch_normalization_9[0][0]      \n",
            "__________________________________________________________________________________________________\n",
            "activation_9 (Activation)       (None, 400, 300, 16) 0           add_4[0][0]                      \n",
            "__________________________________________________________________________________________________\n",
            "conv2d_10 (Conv2D)              (None, 400, 300, 16) 2320        activation_9[0][0]               \n",
            "__________________________________________________________________________________________________\n",
            "batch_normalization_10 (BatchNo (None, 400, 300, 16) 64          conv2d_10[0][0]                  \n",
            "__________________________________________________________________________________________________\n",
            "activation_10 (Activation)      (None, 400, 300, 16) 0           batch_normalization_10[0][0]     \n",
            "__________________________________________________________________________________________________\n",
            "conv2d_11 (Conv2D)              (None, 400, 300, 16) 2320        activation_10[0][0]              \n",
            "__________________________________________________________________________________________________\n",
            "batch_normalization_11 (BatchNo (None, 400, 300, 16) 64          conv2d_11[0][0]                  \n",
            "__________________________________________________________________________________________________\n",
            "add_5 (Add)                     (None, 400, 300, 16) 0           activation_9[0][0]               \n",
            "                                                                 batch_normalization_11[0][0]     \n",
            "__________________________________________________________________________________________________\n",
            "activation_11 (Activation)      (None, 400, 300, 16) 0           add_5[0][0]                      \n",
            "__________________________________________________________________________________________________\n",
            "conv2d_12 (Conv2D)              (None, 200, 150, 32) 4640        activation_11[0][0]              \n",
            "__________________________________________________________________________________________________\n",
            "batch_normalization_12 (BatchNo (None, 200, 150, 32) 128         conv2d_12[0][0]                  \n",
            "__________________________________________________________________________________________________\n",
            "activation_12 (Activation)      (None, 200, 150, 32) 0           batch_normalization_12[0][0]     \n",
            "__________________________________________________________________________________________________\n",
            "conv2d_13 (Conv2D)              (None, 200, 150, 32) 9248        activation_12[0][0]              \n",
            "__________________________________________________________________________________________________\n",
            "conv2d_14 (Conv2D)              (None, 200, 150, 32) 544         activation_11[0][0]              \n",
            "__________________________________________________________________________________________________\n",
            "batch_normalization_13 (BatchNo (None, 200, 150, 32) 128         conv2d_13[0][0]                  \n",
            "__________________________________________________________________________________________________\n",
            "add_6 (Add)                     (None, 200, 150, 32) 0           conv2d_14[0][0]                  \n",
            "                                                                 batch_normalization_13[0][0]     \n",
            "__________________________________________________________________________________________________\n",
            "activation_13 (Activation)      (None, 200, 150, 32) 0           add_6[0][0]                      \n",
            "__________________________________________________________________________________________________\n",
            "conv2d_15 (Conv2D)              (None, 200, 150, 32) 9248        activation_13[0][0]              \n",
            "__________________________________________________________________________________________________\n",
            "batch_normalization_14 (BatchNo (None, 200, 150, 32) 128         conv2d_15[0][0]                  \n",
            "__________________________________________________________________________________________________\n",
            "activation_14 (Activation)      (None, 200, 150, 32) 0           batch_normalization_14[0][0]     \n",
            "__________________________________________________________________________________________________\n",
            "conv2d_16 (Conv2D)              (None, 200, 150, 32) 9248        activation_14[0][0]              \n",
            "__________________________________________________________________________________________________\n",
            "batch_normalization_15 (BatchNo (None, 200, 150, 32) 128         conv2d_16[0][0]                  \n",
            "__________________________________________________________________________________________________\n",
            "add_7 (Add)                     (None, 200, 150, 32) 0           activation_13[0][0]              \n",
            "                                                                 batch_normalization_15[0][0]     \n",
            "__________________________________________________________________________________________________\n",
            "activation_15 (Activation)      (None, 200, 150, 32) 0           add_7[0][0]                      \n",
            "__________________________________________________________________________________________________\n",
            "conv2d_17 (Conv2D)              (None, 200, 150, 32) 9248        activation_15[0][0]              \n",
            "__________________________________________________________________________________________________\n",
            "batch_normalization_16 (BatchNo (None, 200, 150, 32) 128         conv2d_17[0][0]                  \n",
            "__________________________________________________________________________________________________\n",
            "activation_16 (Activation)      (None, 200, 150, 32) 0           batch_normalization_16[0][0]     \n",
            "__________________________________________________________________________________________________\n",
            "conv2d_18 (Conv2D)              (None, 200, 150, 32) 9248        activation_16[0][0]              \n",
            "__________________________________________________________________________________________________\n",
            "batch_normalization_17 (BatchNo (None, 200, 150, 32) 128         conv2d_18[0][0]                  \n",
            "__________________________________________________________________________________________________\n",
            "add_8 (Add)                     (None, 200, 150, 32) 0           activation_15[0][0]              \n",
            "                                                                 batch_normalization_17[0][0]     \n",
            "__________________________________________________________________________________________________\n",
            "activation_17 (Activation)      (None, 200, 150, 32) 0           add_8[0][0]                      \n",
            "__________________________________________________________________________________________________\n",
            "conv2d_19 (Conv2D)              (None, 200, 150, 32) 9248        activation_17[0][0]              \n",
            "__________________________________________________________________________________________________\n",
            "batch_normalization_18 (BatchNo (None, 200, 150, 32) 128         conv2d_19[0][0]                  \n",
            "__________________________________________________________________________________________________\n",
            "activation_18 (Activation)      (None, 200, 150, 32) 0           batch_normalization_18[0][0]     \n",
            "__________________________________________________________________________________________________\n",
            "conv2d_20 (Conv2D)              (None, 200, 150, 32) 9248        activation_18[0][0]              \n",
            "__________________________________________________________________________________________________\n",
            "batch_normalization_19 (BatchNo (None, 200, 150, 32) 128         conv2d_20[0][0]                  \n",
            "__________________________________________________________________________________________________\n",
            "add_9 (Add)                     (None, 200, 150, 32) 0           activation_17[0][0]              \n",
            "                                                                 batch_normalization_19[0][0]     \n",
            "__________________________________________________________________________________________________\n",
            "activation_19 (Activation)      (None, 200, 150, 32) 0           add_9[0][0]                      \n",
            "__________________________________________________________________________________________________\n",
            "conv2d_21 (Conv2D)              (None, 200, 150, 32) 9248        activation_19[0][0]              \n",
            "__________________________________________________________________________________________________\n",
            "batch_normalization_20 (BatchNo (None, 200, 150, 32) 128         conv2d_21[0][0]                  \n",
            "__________________________________________________________________________________________________\n",
            "activation_20 (Activation)      (None, 200, 150, 32) 0           batch_normalization_20[0][0]     \n",
            "__________________________________________________________________________________________________\n",
            "conv2d_22 (Conv2D)              (None, 200, 150, 32) 9248        activation_20[0][0]              \n",
            "__________________________________________________________________________________________________\n",
            "batch_normalization_21 (BatchNo (None, 200, 150, 32) 128         conv2d_22[0][0]                  \n",
            "__________________________________________________________________________________________________\n",
            "add_10 (Add)                    (None, 200, 150, 32) 0           activation_19[0][0]              \n",
            "                                                                 batch_normalization_21[0][0]     \n",
            "__________________________________________________________________________________________________\n",
            "activation_21 (Activation)      (None, 200, 150, 32) 0           add_10[0][0]                     \n",
            "__________________________________________________________________________________________________\n",
            "conv2d_23 (Conv2D)              (None, 100, 75, 64)  18496       activation_21[0][0]              \n",
            "__________________________________________________________________________________________________\n",
            "batch_normalization_22 (BatchNo (None, 100, 75, 64)  256         conv2d_23[0][0]                  \n",
            "__________________________________________________________________________________________________\n",
            "activation_22 (Activation)      (None, 100, 75, 64)  0           batch_normalization_22[0][0]     \n",
            "__________________________________________________________________________________________________\n",
            "conv2d_24 (Conv2D)              (None, 100, 75, 64)  36928       activation_22[0][0]              \n",
            "__________________________________________________________________________________________________\n",
            "conv2d_25 (Conv2D)              (None, 100, 75, 64)  2112        activation_21[0][0]              \n",
            "__________________________________________________________________________________________________\n",
            "batch_normalization_23 (BatchNo (None, 100, 75, 64)  256         conv2d_24[0][0]                  \n",
            "__________________________________________________________________________________________________\n",
            "add_11 (Add)                    (None, 100, 75, 64)  0           conv2d_25[0][0]                  \n",
            "                                                                 batch_normalization_23[0][0]     \n",
            "__________________________________________________________________________________________________\n",
            "activation_23 (Activation)      (None, 100, 75, 64)  0           add_11[0][0]                     \n",
            "__________________________________________________________________________________________________\n",
            "conv2d_26 (Conv2D)              (None, 100, 75, 64)  36928       activation_23[0][0]              \n",
            "__________________________________________________________________________________________________\n",
            "batch_normalization_24 (BatchNo (None, 100, 75, 64)  256         conv2d_26[0][0]                  \n",
            "__________________________________________________________________________________________________\n",
            "activation_24 (Activation)      (None, 100, 75, 64)  0           batch_normalization_24[0][0]     \n",
            "__________________________________________________________________________________________________\n",
            "conv2d_27 (Conv2D)              (None, 100, 75, 64)  36928       activation_24[0][0]              \n",
            "__________________________________________________________________________________________________\n",
            "batch_normalization_25 (BatchNo (None, 100, 75, 64)  256         conv2d_27[0][0]                  \n",
            "__________________________________________________________________________________________________\n",
            "add_12 (Add)                    (None, 100, 75, 64)  0           activation_23[0][0]              \n",
            "                                                                 batch_normalization_25[0][0]     \n",
            "__________________________________________________________________________________________________\n",
            "activation_25 (Activation)      (None, 100, 75, 64)  0           add_12[0][0]                     \n",
            "__________________________________________________________________________________________________\n",
            "conv2d_28 (Conv2D)              (None, 100, 75, 64)  36928       activation_25[0][0]              \n",
            "__________________________________________________________________________________________________\n",
            "batch_normalization_26 (BatchNo (None, 100, 75, 64)  256         conv2d_28[0][0]                  \n",
            "__________________________________________________________________________________________________\n",
            "activation_26 (Activation)      (None, 100, 75, 64)  0           batch_normalization_26[0][0]     \n",
            "__________________________________________________________________________________________________\n",
            "conv2d_29 (Conv2D)              (None, 100, 75, 64)  36928       activation_26[0][0]              \n",
            "__________________________________________________________________________________________________\n",
            "batch_normalization_27 (BatchNo (None, 100, 75, 64)  256         conv2d_29[0][0]                  \n",
            "__________________________________________________________________________________________________\n",
            "add_13 (Add)                    (None, 100, 75, 64)  0           activation_25[0][0]              \n",
            "                                                                 batch_normalization_27[0][0]     \n",
            "__________________________________________________________________________________________________\n",
            "activation_27 (Activation)      (None, 100, 75, 64)  0           add_13[0][0]                     \n",
            "__________________________________________________________________________________________________\n",
            "conv2d_30 (Conv2D)              (None, 100, 75, 64)  36928       activation_27[0][0]              \n",
            "__________________________________________________________________________________________________\n",
            "batch_normalization_28 (BatchNo (None, 100, 75, 64)  256         conv2d_30[0][0]                  \n",
            "__________________________________________________________________________________________________\n",
            "activation_28 (Activation)      (None, 100, 75, 64)  0           batch_normalization_28[0][0]     \n",
            "__________________________________________________________________________________________________\n",
            "conv2d_31 (Conv2D)              (None, 100, 75, 64)  36928       activation_28[0][0]              \n",
            "__________________________________________________________________________________________________\n",
            "batch_normalization_29 (BatchNo (None, 100, 75, 64)  256         conv2d_31[0][0]                  \n",
            "__________________________________________________________________________________________________\n",
            "add_14 (Add)                    (None, 100, 75, 64)  0           activation_27[0][0]              \n",
            "                                                                 batch_normalization_29[0][0]     \n",
            "__________________________________________________________________________________________________\n",
            "activation_29 (Activation)      (None, 100, 75, 64)  0           add_14[0][0]                     \n",
            "__________________________________________________________________________________________________\n",
            "conv2d_32 (Conv2D)              (None, 100, 75, 64)  36928       activation_29[0][0]              \n",
            "__________________________________________________________________________________________________\n",
            "batch_normalization_30 (BatchNo (None, 100, 75, 64)  256         conv2d_32[0][0]                  \n",
            "__________________________________________________________________________________________________\n",
            "activation_30 (Activation)      (None, 100, 75, 64)  0           batch_normalization_30[0][0]     \n",
            "__________________________________________________________________________________________________\n",
            "conv2d_33 (Conv2D)              (None, 100, 75, 64)  36928       activation_30[0][0]              \n",
            "__________________________________________________________________________________________________\n",
            "batch_normalization_31 (BatchNo (None, 100, 75, 64)  256         conv2d_33[0][0]                  \n",
            "__________________________________________________________________________________________________\n",
            "add_15 (Add)                    (None, 100, 75, 64)  0           activation_29[0][0]              \n",
            "                                                                 batch_normalization_31[0][0]     \n",
            "__________________________________________________________________________________________________\n",
            "activation_31 (Activation)      (None, 100, 75, 64)  0           add_15[0][0]                     \n",
            "__________________________________________________________________________________________________\n",
            "average_pooling2d_1 (AveragePoo (None, 12, 9, 64)    0           activation_31[0][0]              \n",
            "__________________________________________________________________________________________________\n",
            "flatten_1 (Flatten)             (None, 6912)         0           average_pooling2d_1[0][0]        \n",
            "__________________________________________________________________________________________________\n",
            "dense_1 (Dense)                 (None, 2)            13826       flatten_1[0][0]                  \n",
            "==================================================================================================\n",
            "Total params: 483,394\n",
            "Trainable params: 481,122\n",
            "Non-trainable params: 2,272\n",
            "__________________________________________________________________________________________________\n"
          ],
          "name": "stdout"
        }
      ]
    },
    {
      "cell_type": "code",
      "metadata": {
        "id": "zlvK28wD3gtK",
        "colab_type": "code",
        "outputId": "e82e89ae-0837-4b94-f4e9-68ac0d3bd0f3",
        "colab": {
          "base_uri": "https://localhost:8080/",
          "height": 1000
        }
      },
      "source": [
        "#cross validation\n",
        "from sklearn.model_selection import train_test_split,KFold\n",
        "kf=KFold(10,True,1)\n",
        "for train_index,test_index in kf.split(Arr):\n",
        "    print(\"Train Index: \", train_index)\n",
        "    print(\"Test Index: \", test_index)\n",
        "    print(\"\\n\")"
      ],
      "execution_count": 0,
      "outputs": [
        {
          "output_type": "stream",
          "text": [
            "Train Index:  [  1   2   3   4   5   6   7   8   9  10  11  12  14  15  16  17  18  19\n",
            "  20  21  22  24  25  26  27  28  29  30  31  32  33  34  35  36  37  38\n",
            "  39  40  42  43  44  45  46  48  50  51  52  53  54  55  56  57  58  60\n",
            "  61  62  63  64  67  68  69  70  71  72  73  74  75  76  77  78  79  80\n",
            "  81  82  83  84  85  86  87  89  90  91  92  93  94  95  96  97  98  99\n",
            " 100 101 102 103 104 105 106 108 109 110 112 113 114 115 116 117 118 119\n",
            " 120 121 122 123 125 126 127 128 129 130 131 133 134 136 137 138 139 140\n",
            " 141 142 143 144 145 146 148 149 150 151 152 153 154 155 156 157 158 159\n",
            " 161 162 163 164 165 166 167 168 169 170 171 172 173 174 175 176 177 178\n",
            " 179 180 181 182 183 184 185 186 187 188 189 190 191 192 193 194 196 197\n",
            " 198 199 200 201 202 203 204 205 206 207 208 209 210 211 212 213 214 215\n",
            " 216 217 219 220 221 222 223 224 225 226 227 228 229 230 231 232 233 234\n",
            " 235 236 237 238 239 240 241 242 243 244 245 246 247 248 249 251 252 253\n",
            " 254 255 256 257 262 263 264 265 266 267 268 269 270 271 272 273 274 275\n",
            " 276 277 278 279 280 281 282 283 286 287 288 289 290 291 292 294 295 296\n",
            " 297 298 299 300 301 302 303 304 306 308 309 310 311 312 313 314 315 316\n",
            " 317 319 320 321 322 323 324 325 326 327 328 330 331 332 333 334 335 336\n",
            " 337 338 339 340 341 343 344 345 347 348 349 350 351 352 353 354 355 356\n",
            " 357 359 360 361 362 363 364 365 366 367 368 369 371 372 373 374 375 376\n",
            " 377 378 380 381 382 383 384 385 386 387 388 389 390 391 392 393 395 396\n",
            " 397 398 399 400 401 402 403 404 405 406 407 409 410 412 413 414 415 416\n",
            " 417 418 419 420 421 422 423 424 425 427 429 431 432 433 434 437 438 439\n",
            " 440 442 443 444 445 446 447 448 449 450 451 452 453 454 455 456 457 458\n",
            " 460 461 462 464 465 466 467 468 469 470 471 472 475 476 477 478 479 480\n",
            " 481 482 484 485 486 487 488 489 490 491 492 493 495 496 497 498 499 500\n",
            " 502 503 504 505 506 507 508 509 511 512 513 514 515 516 517 518 519 520\n",
            " 521 522 523 524 525 526 527 528 529 530 531 532 533 534 535 536 537 539\n",
            " 540 541 542 543 544 545 546 547 548 549 550 551 552 553 554 555 556 557\n",
            " 558 559 562 563 564 565 566 567 568 569 570 571 572 573 574 575 576 579\n",
            " 580 581 582 583 584 585 588 589 590 591]\n",
            "Test Index:  [  0  13  23  41  47  49  59  65  66  88 107 111 124 132 135 147 160 195\n",
            " 218 250 258 259 260 261 284 285 293 305 307 318 329 342 346 358 370 379\n",
            " 394 408 411 426 428 430 435 436 441 459 463 473 474 483 494 501 510 538\n",
            " 560 561 577 578 586 587]\n",
            "\n",
            "\n",
            "Train Index:  [  0   1   2   4   6   7   8  10  11  12  13  14  15  16  18  19  20  21\n",
            "  22  23  24  25  26  27  28  30  31  32  33  35  36  37  39  41  42  43\n",
            "  44  45  46  47  48  49  50  51  52  53  54  55  56  57  58  59  60  61\n",
            "  62  63  64  65  66  68  70  71  72  73  74  75  76  77  78  79  80  81\n",
            "  83  84  86  87  88  89  91  93  94  95  96  97  98  99 100 101 102 103\n",
            " 104 105 106 107 108 109 110 111 112 113 114 115 116 117 118 121 122 123\n",
            " 124 125 126 127 128 129 130 131 132 133 134 135 136 137 138 139 140 141\n",
            " 142 143 144 145 146 147 148 149 150 151 152 153 154 155 156 157 158 160\n",
            " 161 163 164 166 167 168 169 170 171 174 175 176 177 178 181 182 183 184\n",
            " 185 186 187 188 190 191 193 194 195 196 198 199 200 201 202 203 204 205\n",
            " 206 208 209 210 211 212 213 215 216 217 218 219 220 221 222 223 224 225\n",
            " 226 227 228 229 230 231 232 234 235 236 237 238 239 240 241 243 244 246\n",
            " 247 248 249 250 251 252 253 254 255 256 257 258 259 260 261 262 263 264\n",
            " 265 266 267 268 269 270 271 272 274 275 276 278 279 280 281 282 283 284\n",
            " 285 287 288 290 291 292 293 294 295 296 297 298 299 300 301 302 303 304\n",
            " 305 307 308 309 310 311 313 314 316 317 318 319 320 321 322 323 324 325\n",
            " 326 327 328 329 330 331 332 333 334 335 336 337 338 339 340 341 342 343\n",
            " 344 345 346 348 349 350 351 352 353 354 355 356 357 358 359 360 361 362\n",
            " 363 364 365 366 367 369 370 371 372 374 375 377 378 379 380 381 382 383\n",
            " 384 386 387 388 389 390 391 392 393 394 396 397 398 399 400 401 402 403\n",
            " 404 405 406 408 409 410 411 412 414 415 416 417 418 419 420 421 422 423\n",
            " 424 425 426 427 428 429 430 431 432 433 434 435 436 438 439 440 441 442\n",
            " 443 444 445 446 447 449 450 452 453 454 455 456 457 458 459 460 461 462\n",
            " 463 464 465 466 467 468 469 470 471 472 473 474 475 476 478 479 480 482\n",
            " 483 484 485 486 487 488 489 490 491 493 494 495 496 497 498 499 500 501\n",
            " 502 503 504 505 506 507 508 509 510 511 512 513 514 515 516 517 518 519\n",
            " 520 521 522 523 524 526 527 528 530 531 532 534 535 536 538 540 541 542\n",
            " 544 545 547 548 549 550 551 552 553 554 555 556 557 558 559 560 561 562\n",
            " 563 564 565 566 567 568 569 570 571 572 573 575 576 577 578 579 580 581\n",
            " 582 583 584 585 586 587 588 589 590 591]\n",
            "Test Index:  [  3   5   9  17  29  34  38  40  67  69  82  85  90  92 119 120 159 162\n",
            " 165 172 173 179 180 189 192 197 207 214 233 242 245 273 277 286 289 306\n",
            " 312 315 347 368 373 376 385 395 407 413 437 448 451 477 481 492 525 529\n",
            " 533 537 539 543 546 574]\n",
            "\n",
            "\n",
            "Train Index:  [  0   1   2   3   5   6   7   8   9  10  11  12  13  14  15  17  18  20\n",
            "  21  22  23  24  25  26  27  28  29  30  32  33  34  35  36  37  38  40\n",
            "  41  43  44  45  46  47  48  49  50  51  52  53  54  55  56  57  58  59\n",
            "  60  63  64  65  66  67  69  70  71  72  73  75  77  79  80  81  82  83\n",
            "  84  85  86  87  88  89  90  91  92  93  94  96  97  98  99 100 101 102\n",
            " 103 104 105 106 107 108 109 110 111 112 113 114 115 116 118 119 120 121\n",
            " 122 123 124 125 126 127 128 129 130 131 132 134 135 136 137 138 140 141\n",
            " 142 143 144 145 146 147 148 149 150 151 152 153 154 155 156 158 159 160\n",
            " 162 163 164 165 166 167 168 169 170 171 172 173 174 175 176 177 178 179\n",
            " 180 181 182 183 184 185 186 188 189 190 191 192 193 194 195 196 197 198\n",
            " 199 200 202 203 204 205 206 207 208 209 210 211 212 213 214 215 216 217\n",
            " 218 219 220 221 222 224 225 226 227 228 229 230 231 232 233 234 235 237\n",
            " 238 239 240 241 242 243 244 245 246 248 249 250 251 252 253 254 255 256\n",
            " 257 258 259 260 261 262 263 264 265 266 267 269 270 271 272 273 275 276\n",
            " 277 278 279 280 281 282 283 284 285 286 287 288 289 290 291 292 293 294\n",
            " 296 297 298 299 300 301 302 303 305 306 307 308 309 310 311 312 313 315\n",
            " 316 317 318 319 320 321 322 323 324 325 326 327 328 329 330 331 332 334\n",
            " 335 336 337 338 339 340 342 343 344 345 346 347 348 350 351 352 353 354\n",
            " 355 356 357 358 359 361 362 363 364 365 366 367 368 369 370 371 372 373\n",
            " 374 375 376 377 378 379 380 381 382 383 384 385 386 387 388 389 390 391\n",
            " 392 393 394 395 396 397 398 399 400 401 402 404 405 406 407 408 410 411\n",
            " 412 413 414 415 416 417 418 419 420 422 423 424 426 428 430 431 432 433\n",
            " 434 435 436 437 438 439 440 441 442 443 444 445 447 448 449 451 452 453\n",
            " 454 455 456 459 460 461 463 464 465 466 467 468 469 471 472 473 474 475\n",
            " 476 477 478 479 481 482 483 484 485 487 488 489 490 492 493 494 495 496\n",
            " 497 498 499 501 502 503 504 505 506 507 508 509 510 512 513 514 515 516\n",
            " 518 519 520 521 523 525 526 527 528 529 530 531 532 533 534 535 536 537\n",
            " 538 539 540 542 543 544 545 546 547 548 549 550 551 552 553 554 556 557\n",
            " 559 560 561 562 563 564 565 566 567 569 570 571 572 573 574 575 577 578\n",
            " 579 581 582 583 585 586 587 588 589 590 591]\n",
            "Test Index:  [  4  16  19  31  39  42  61  62  68  74  76  78  95 117 133 139 157 161\n",
            " 187 201 223 236 247 268 274 295 304 314 333 341 349 360 403 409 421 425\n",
            " 427 429 446 450 457 458 462 470 480 486 491 500 511 517 522 524 541 555\n",
            " 558 568 576 580 584]\n",
            "\n",
            "\n",
            "Train Index:  [  0   1   2   3   4   5   7   8   9  10  12  13  14  15  16  17  19  20\n",
            "  21  22  23  24  25  26  27  28  29  30  31  32  33  34  35  36  37  38\n",
            "  39  40  41  42  43  44  45  46  47  48  49  50  51  53  54  55  56  57\n",
            "  59  60  61  62  63  64  65  66  67  68  69  70  71  72  73  74  75  76\n",
            "  77  78  79  80  81  82  83  84  85  86  87  88  89  90  91  92  93  94\n",
            "  95  96  97  98  99 100 103 105 106 107 108 109 111 112 113 114 115 116\n",
            " 117 118 119 120 122 123 124 125 126 127 129 130 131 132 133 134 135 136\n",
            " 137 138 139 140 141 143 144 145 147 148 149 150 151 152 153 154 155 156\n",
            " 157 158 159 160 161 162 163 164 165 166 167 169 170 171 172 173 174 175\n",
            " 176 177 178 179 180 181 182 183 184 185 187 188 189 190 191 192 193 194\n",
            " 195 196 197 198 199 200 201 202 204 205 206 207 208 209 210 211 212 213\n",
            " 214 215 216 217 218 219 220 221 222 223 226 227 228 229 230 231 233 234\n",
            " 235 236 238 239 240 242 243 244 245 246 247 248 249 250 251 252 253 254\n",
            " 256 258 259 260 261 263 264 265 266 267 268 269 270 271 272 273 274 275\n",
            " 276 277 278 279 280 281 282 283 284 285 286 287 288 289 290 292 293 294\n",
            " 295 296 297 298 299 300 301 302 303 304 305 306 307 308 309 310 312 313\n",
            " 314 315 316 317 318 319 320 321 322 323 324 325 326 327 328 329 330 331\n",
            " 332 333 334 336 337 338 340 341 342 343 344 345 346 347 348 349 352 353\n",
            " 354 356 357 358 359 360 363 365 367 368 369 370 371 372 373 374 376 377\n",
            " 378 379 380 381 382 384 385 387 388 389 390 391 393 394 395 396 397 398\n",
            " 399 400 401 403 404 405 406 407 408 409 410 411 412 413 414 415 416 418\n",
            " 420 421 422 423 425 426 427 428 429 430 431 432 433 434 435 436 437 438\n",
            " 440 441 443 444 446 447 448 449 450 451 452 454 455 456 457 458 459 461\n",
            " 462 463 464 465 466 467 468 469 470 471 473 474 475 476 477 478 479 480\n",
            " 481 482 483 484 485 486 487 488 489 490 491 492 493 494 495 497 498 499\n",
            " 500 501 502 503 505 506 507 508 509 510 511 512 513 514 515 516 517 518\n",
            " 519 520 522 523 524 525 526 527 528 529 530 531 533 534 535 536 537 538\n",
            " 539 540 541 542 543 544 545 546 550 551 553 554 555 556 557 558 559 560\n",
            " 561 562 563 564 565 568 569 570 571 572 573 574 575 576 577 578 579 580\n",
            " 581 582 583 584 585 586 587 588 589 590 591]\n",
            "Test Index:  [  6  11  18  52  58 101 102 104 110 121 128 142 146 168 186 203 224 225\n",
            " 232 237 241 255 257 262 291 311 335 339 350 351 355 361 362 364 366 375\n",
            " 383 386 392 402 417 419 424 439 442 445 453 460 472 496 504 521 532 547\n",
            " 548 549 552 566 567]\n",
            "\n",
            "\n",
            "Train Index:  [  0   3   4   5   6   7   8   9  10  11  13  14  15  16  17  18  19  20\n",
            "  21  22  23  24  25  26  28  29  30  31  32  33  34  35  36  37  38  39\n",
            "  40  41  42  43  44  45  47  48  49  50  51  52  53  54  55  56  57  58\n",
            "  59  60  61  62  63  64  65  66  67  68  69  71  72  74  75  76  77  78\n",
            "  79  82  83  84  85  86  87  88  90  92  94  95  96  97  99 100 101 102\n",
            " 103 104 105 107 108 109 110 111 112 113 114 116 117 118 119 120 121 123\n",
            " 124 126 128 129 130 131 132 133 134 135 136 137 138 139 140 141 142 143\n",
            " 144 145 146 147 148 149 150 151 152 153 154 155 156 157 158 159 160 161\n",
            " 162 163 165 166 167 168 169 170 172 173 174 175 176 177 178 179 180 181\n",
            " 182 183 184 186 187 188 189 190 191 192 193 194 195 196 197 198 199 200\n",
            " 201 202 203 205 206 207 208 209 210 211 212 214 215 216 217 218 219 220\n",
            " 222 223 224 225 226 227 228 229 230 231 232 233 234 235 236 237 238 240\n",
            " 241 242 243 245 247 248 250 251 252 253 254 255 256 257 258 259 260 261\n",
            " 262 263 264 265 266 268 269 270 271 272 273 274 275 276 277 278 279 280\n",
            " 281 282 284 285 286 287 288 289 290 291 293 294 295 296 297 298 299 300\n",
            " 301 302 303 304 305 306 307 309 310 311 312 313 314 315 316 317 318 319\n",
            " 320 321 322 324 325 326 327 329 330 331 332 333 335 336 337 338 339 340\n",
            " 341 342 343 346 347 348 349 350 351 352 353 354 355 356 357 358 359 360\n",
            " 361 362 364 366 367 368 369 370 371 372 373 374 375 376 377 378 379 380\n",
            " 381 382 383 384 385 386 387 389 390 391 392 393 394 395 396 397 398 399\n",
            " 400 401 402 403 405 406 407 408 409 410 411 412 413 415 416 417 418 419\n",
            " 420 421 423 424 425 426 427 428 429 430 431 432 434 435 436 437 438 439\n",
            " 440 441 442 443 444 445 446 448 449 450 451 452 453 454 456 457 458 459\n",
            " 460 461 462 463 464 466 467 468 469 470 471 472 473 474 475 476 477 478\n",
            " 479 480 481 482 483 485 486 487 488 489 490 491 492 493 494 495 496 497\n",
            " 498 499 500 501 503 504 507 508 510 511 512 513 514 515 516 517 519 520\n",
            " 521 522 523 524 525 526 527 528 529 530 531 532 533 534 535 536 537 538\n",
            " 539 540 541 542 543 545 546 547 548 549 550 551 552 553 554 555 556 557\n",
            " 558 559 560 561 562 563 564 566 567 568 569 570 571 574 575 576 577 578\n",
            " 579 580 581 582 583 584 586 587 588 590 591]\n",
            "Test Index:  [  1   2  12  27  46  70  73  80  81  89  91  93  98 106 115 122 125 127\n",
            " 164 171 185 204 213 221 239 244 246 249 267 283 292 308 323 328 334 344\n",
            " 345 363 365 388 404 414 422 433 447 455 465 484 502 505 506 509 518 544\n",
            " 565 572 573 585 589]\n",
            "\n",
            "\n",
            "Train Index:  [  0   1   2   3   4   5   6   7   8   9  10  11  12  13  15  16  17  18\n",
            "  19  20  21  22  23  24  25  26  27  28  29  30  31  32  33  34  35  36\n",
            "  37  38  39  40  41  42  43  44  45  46  47  48  49  50  52  53  54  55\n",
            "  56  57  58  59  60  61  62  63  64  65  66  67  68  69  70  71  72  73\n",
            "  74  75  76  77  78  79  80  81  82  83  84  85  86  87  88  89  90  91\n",
            "  92  93  94  95  96  97  98  99 100 101 102 103 104 106 107 108 109 110\n",
            " 111 113 114 115 116 117 118 119 120 121 122 124 125 126 127 128 129 130\n",
            " 132 133 134 135 136 137 139 140 141 142 144 146 147 148 149 151 152 154\n",
            " 155 156 157 158 159 160 161 162 164 165 166 168 169 170 171 172 173 176\n",
            " 177 178 179 180 181 182 183 184 185 186 187 189 190 192 193 194 195 196\n",
            " 197 198 199 200 201 202 203 204 205 207 209 210 211 212 213 214 215 217\n",
            " 218 219 220 221 222 223 224 225 227 228 229 231 232 233 234 235 236 237\n",
            " 239 240 241 242 243 244 245 246 247 248 249 250 251 252 253 254 255 257\n",
            " 258 259 260 261 262 263 264 266 267 268 269 271 273 274 275 276 277 278\n",
            " 279 280 281 282 283 284 285 286 287 288 289 290 291 292 293 295 296 297\n",
            " 299 301 302 303 304 305 306 307 308 309 310 311 312 313 314 315 316 317\n",
            " 318 319 320 321 322 323 325 327 328 329 330 331 332 333 334 335 336 337\n",
            " 338 339 340 341 342 343 344 345 346 347 348 349 350 351 352 353 354 355\n",
            " 356 357 358 359 360 361 362 363 364 365 366 367 368 369 370 371 372 373\n",
            " 375 376 377 378 379 380 381 383 384 385 386 387 388 389 390 391 392 393\n",
            " 394 395 397 398 399 401 402 403 404 405 407 408 409 411 412 413 414 416\n",
            " 417 418 419 420 421 422 424 425 426 427 428 429 430 431 432 433 435 436\n",
            " 437 439 440 441 442 445 446 447 448 449 450 451 452 453 454 455 456 457\n",
            " 458 459 460 461 462 463 465 466 468 469 470 471 472 473 474 476 477 478\n",
            " 479 480 481 482 483 484 485 486 487 489 490 491 492 494 495 496 497 498\n",
            " 500 501 502 503 504 505 506 507 508 509 510 511 512 513 514 515 517 518\n",
            " 519 520 521 522 523 524 525 526 528 529 530 532 533 534 536 537 538 539\n",
            " 541 542 543 544 545 546 547 548 549 550 551 552 553 554 555 557 558 559\n",
            " 560 561 562 563 564 565 566 567 568 569 570 572 573 574 575 576 577 578\n",
            " 579 580 581 583 584 585 586 587 588 589 590]\n",
            "Test Index:  [ 14  51 105 112 123 131 138 143 145 150 153 163 167 174 175 188 191 206\n",
            " 208 216 226 230 238 256 265 270 272 294 298 300 324 326 374 382 396 400\n",
            " 406 410 415 423 434 438 443 444 464 467 475 488 493 499 516 527 531 535\n",
            " 540 556 571 582 591]\n",
            "\n",
            "\n",
            "Train Index:  [  0   1   2   3   4   5   6   7   9  10  11  12  13  14  15  16  17  18\n",
            "  19  20  21  22  23  24  25  26  27  29  30  31  34  36  37  38  39  40\n",
            "  41  42  43  45  46  47  49  51  52  54  56  57  58  59  60  61  62  64\n",
            "  65  66  67  68  69  70  71  72  73  74  75  76  77  78  80  81  82  85\n",
            "  86  87  88  89  90  91  92  93  94  95  96  97  98 101 102 103 104 105\n",
            " 106 107 110 111 112 114 115 116 117 118 119 120 121 122 123 124 125 126\n",
            " 127 128 129 130 131 132 133 134 135 137 138 139 140 141 142 143 144 145\n",
            " 146 147 148 149 150 151 152 153 155 157 159 160 161 162 163 164 165 166\n",
            " 167 168 170 171 172 173 174 175 176 177 178 179 180 181 182 183 184 185\n",
            " 186 187 188 189 190 191 192 193 194 195 196 197 198 199 200 201 202 203\n",
            " 204 205 206 207 208 209 210 212 213 214 215 216 217 218 219 220 221 223\n",
            " 224 225 226 230 231 232 233 235 236 237 238 239 240 241 242 243 244 245\n",
            " 246 247 248 249 250 252 253 254 255 256 257 258 259 260 261 262 263 264\n",
            " 265 266 267 268 269 270 272 273 274 276 277 278 279 281 282 283 284 285\n",
            " 286 288 289 291 292 293 294 295 296 297 298 299 300 301 302 303 304 305\n",
            " 306 307 308 309 311 312 313 314 315 316 317 318 319 321 323 324 325 326\n",
            " 327 328 329 332 333 334 335 336 337 338 339 340 341 342 343 344 345 346\n",
            " 347 348 349 350 351 352 353 354 355 356 357 358 359 360 361 362 363 364\n",
            " 365 366 367 368 369 370 371 373 374 375 376 377 379 380 381 382 383 385\n",
            " 386 387 388 389 390 391 392 393 394 395 396 397 398 399 400 401 402 403\n",
            " 404 405 406 407 408 409 410 411 413 414 415 416 417 418 419 420 421 422\n",
            " 423 424 425 426 427 428 429 430 431 432 433 434 435 436 437 438 439 441\n",
            " 442 443 444 445 446 447 448 449 450 451 452 453 454 455 456 457 458 459\n",
            " 460 461 462 463 464 465 466 467 468 469 470 471 472 473 474 475 476 477\n",
            " 478 479 480 481 483 484 486 488 489 490 491 492 493 494 495 496 497 499\n",
            " 500 501 502 503 504 505 506 507 508 509 510 511 512 513 514 515 516 517\n",
            " 518 520 521 522 524 525 527 528 529 531 532 533 534 535 536 537 538 539\n",
            " 540 541 542 543 544 545 546 547 548 549 550 551 552 553 554 555 556 557\n",
            " 558 560 561 562 563 564 565 566 567 568 569 571 572 573 574 575 576 577\n",
            " 578 579 580 582 583 584 585 586 587 589 591]\n",
            "Test Index:  [  8  28  32  33  35  44  48  50  53  55  63  79  83  84  99 100 108 109\n",
            " 113 136 154 156 158 169 211 222 227 228 229 234 251 271 275 280 287 290\n",
            " 310 320 322 330 331 372 378 384 412 440 482 485 487 498 519 523 526 530\n",
            " 559 570 581 588 590]\n",
            "\n",
            "\n",
            "Train Index:  [  0   1   2   3   4   5   6   7   8   9  10  11  12  13  14  15  16  17\n",
            "  18  19  20  22  23  25  26  27  28  29  30  31  32  33  34  35  36  37\n",
            "  38  39  40  41  42  43  44  46  47  48  49  50  51  52  53  55  57  58\n",
            "  59  60  61  62  63  64  65  66  67  68  69  70  71  72  73  74  75  76\n",
            "  77  78  79  80  81  82  83  84  85  86  87  88  89  90  91  92  93  94\n",
            "  95  96  98  99 100 101 102 103 104 105 106 107 108 109 110 111 112 113\n",
            " 115 117 119 120 121 122 123 124 125 126 127 128 129 130 131 132 133 135\n",
            " 136 138 139 140 141 142 143 144 145 146 147 148 149 150 151 152 153 154\n",
            " 155 156 157 158 159 160 161 162 163 164 165 166 167 168 169 171 172 173\n",
            " 174 175 178 179 180 185 186 187 188 189 190 191 192 193 195 196 197 200\n",
            " 201 202 203 204 206 207 208 209 210 211 213 214 215 216 218 220 221 222\n",
            " 223 224 225 226 227 228 229 230 232 233 234 235 236 237 238 239 240 241\n",
            " 242 243 244 245 246 247 249 250 251 252 253 254 255 256 257 258 259 260\n",
            " 261 262 263 264 265 267 268 269 270 271 272 273 274 275 276 277 279 280\n",
            " 281 282 283 284 285 286 287 288 289 290 291 292 293 294 295 297 298 300\n",
            " 301 302 304 305 306 307 308 310 311 312 313 314 315 316 318 319 320 321\n",
            " 322 323 324 326 328 329 330 331 332 333 334 335 336 337 338 339 341 342\n",
            " 344 345 346 347 348 349 350 351 353 355 356 357 358 359 360 361 362 363\n",
            " 364 365 366 367 368 369 370 371 372 373 374 375 376 377 378 379 380 381\n",
            " 382 383 384 385 386 387 388 390 391 392 393 394 395 396 398 400 402 403\n",
            " 404 406 407 408 409 410 411 412 413 414 415 416 417 418 419 421 422 423\n",
            " 424 425 426 427 428 429 430 431 433 434 435 436 437 438 439 440 441 442\n",
            " 443 444 445 446 447 448 450 451 452 453 454 455 456 457 458 459 460 461\n",
            " 462 463 464 465 466 467 468 469 470 471 472 473 474 475 476 477 478 480\n",
            " 481 482 483 484 485 486 487 488 489 490 491 492 493 494 496 497 498 499\n",
            " 500 501 502 503 504 505 506 508 509 510 511 513 514 515 516 517 518 519\n",
            " 521 522 523 524 525 526 527 528 529 530 531 532 533 534 535 536 537 538\n",
            " 539 540 541 542 543 544 546 547 548 549 550 552 553 554 555 556 558 559\n",
            " 560 561 562 563 564 565 566 567 568 570 571 572 573 574 576 577 578 580\n",
            " 581 582 583 584 585 586 587 588 589 590 591]\n",
            "Test Index:  [ 21  24  45  54  56  97 114 116 118 134 137 170 176 177 181 182 183 184\n",
            " 194 198 199 205 212 217 219 231 248 266 278 296 299 303 309 317 325 327\n",
            " 340 343 352 354 389 397 399 401 405 420 432 449 479 495 507 512 520 545\n",
            " 551 557 569 575 579]\n",
            "\n",
            "\n",
            "Train Index:  [  0   1   2   3   4   5   6   7   8   9  11  12  13  14  15  16  17  18\n",
            "  19  21  22  23  24  25  26  27  28  29  31  32  33  34  35  37  38  39\n",
            "  40  41  42  43  44  45  46  47  48  49  50  51  52  53  54  55  56  58\n",
            "  59  61  62  63  64  65  66  67  68  69  70  71  72  73  74  76  78  79\n",
            "  80  81  82  83  84  85  86  88  89  90  91  92  93  95  97  98  99 100\n",
            " 101 102 104 105 106 107 108 109 110 111 112 113 114 115 116 117 118 119\n",
            " 120 121 122 123 124 125 126 127 128 129 131 132 133 134 135 136 137 138\n",
            " 139 141 142 143 144 145 146 147 150 153 154 155 156 157 158 159 160 161\n",
            " 162 163 164 165 167 168 169 170 171 172 173 174 175 176 177 178 179 180\n",
            " 181 182 183 184 185 186 187 188 189 191 192 194 195 196 197 198 199 201\n",
            " 203 204 205 206 207 208 209 211 212 213 214 215 216 217 218 219 221 222\n",
            " 223 224 225 226 227 228 229 230 231 232 233 234 235 236 237 238 239 241\n",
            " 242 244 245 246 247 248 249 250 251 252 254 255 256 257 258 259 260 261\n",
            " 262 264 265 266 267 268 270 271 272 273 274 275 276 277 278 279 280 281\n",
            " 282 283 284 285 286 287 289 290 291 292 293 294 295 296 297 298 299 300\n",
            " 303 304 305 306 307 308 309 310 311 312 313 314 315 316 317 318 319 320\n",
            " 322 323 324 325 326 327 328 329 330 331 333 334 335 336 339 340 341 342\n",
            " 343 344 345 346 347 349 350 351 352 354 355 356 357 358 360 361 362 363\n",
            " 364 365 366 367 368 370 372 373 374 375 376 378 379 381 382 383 384 385\n",
            " 386 387 388 389 390 392 393 394 395 396 397 398 399 400 401 402 403 404\n",
            " 405 406 407 408 409 410 411 412 413 414 415 417 419 420 421 422 423 424\n",
            " 425 426 427 428 429 430 431 432 433 434 435 436 437 438 439 440 441 442\n",
            " 443 444 445 446 447 448 449 450 451 453 454 455 456 457 458 459 460 462\n",
            " 463 464 465 466 467 468 470 471 472 473 474 475 477 478 479 480 481 482\n",
            " 483 484 485 486 487 488 490 491 492 493 494 495 496 497 498 499 500 501\n",
            " 502 503 504 505 506 507 508 509 510 511 512 513 515 516 517 518 519 520\n",
            " 521 522 523 524 525 526 527 529 530 531 532 533 534 535 537 538 539 540\n",
            " 541 542 543 544 545 546 547 548 549 551 552 555 556 557 558 559 560 561\n",
            " 562 564 565 566 567 568 569 570 571 572 573 574 575 576 577 578 579 580\n",
            " 581 582 583 584 585 586 587 588 589 590 591]\n",
            "Test Index:  [ 10  20  30  36  57  60  75  77  87  94  96 103 130 140 148 149 151 152\n",
            " 166 190 193 200 202 210 220 240 243 253 263 269 288 301 302 321 332 337\n",
            " 338 348 353 359 369 371 377 380 391 416 418 452 461 469 476 489 514 528\n",
            " 536 550 553 554 563]\n",
            "\n",
            "\n",
            "Train Index:  [  0   1   2   3   4   5   6   8   9  10  11  12  13  14  16  17  18  19\n",
            "  20  21  23  24  27  28  29  30  31  32  33  34  35  36  38  39  40  41\n",
            "  42  44  45  46  47  48  49  50  51  52  53  54  55  56  57  58  59  60\n",
            "  61  62  63  65  66  67  68  69  70  73  74  75  76  77  78  79  80  81\n",
            "  82  83  84  85  87  88  89  90  91  92  93  94  95  96  97  98  99 100\n",
            " 101 102 103 104 105 106 107 108 109 110 111 112 113 114 115 116 117 118\n",
            " 119 120 121 122 123 124 125 127 128 130 131 132 133 134 135 136 137 138\n",
            " 139 140 142 143 145 146 147 148 149 150 151 152 153 154 156 157 158 159\n",
            " 160 161 162 163 164 165 166 167 168 169 170 171 172 173 174 175 176 177\n",
            " 179 180 181 182 183 184 185 186 187 188 189 190 191 192 193 194 195 197\n",
            " 198 199 200 201 202 203 204 205 206 207 208 210 211 212 213 214 216 217\n",
            " 218 219 220 221 222 223 224 225 226 227 228 229 230 231 232 233 234 236\n",
            " 237 238 239 240 241 242 243 244 245 246 247 248 249 250 251 253 255 256\n",
            " 257 258 259 260 261 262 263 265 266 267 268 269 270 271 272 273 274 275\n",
            " 277 278 280 283 284 285 286 287 288 289 290 291 292 293 294 295 296 298\n",
            " 299 300 301 302 303 304 305 306 307 308 309 310 311 312 314 315 317 318\n",
            " 320 321 322 323 324 325 326 327 328 329 330 331 332 333 334 335 337 338\n",
            " 339 340 341 342 343 344 345 346 347 348 349 350 351 352 353 354 355 358\n",
            " 359 360 361 362 363 364 365 366 368 369 370 371 372 373 374 375 376 377\n",
            " 378 379 380 382 383 384 385 386 388 389 391 392 394 395 396 397 399 400\n",
            " 401 402 403 404 405 406 407 408 409 410 411 412 413 414 415 416 417 418\n",
            " 419 420 421 422 423 424 425 426 427 428 429 430 432 433 434 435 436 437\n",
            " 438 439 440 441 442 443 444 445 446 447 448 449 450 451 452 453 455 457\n",
            " 458 459 460 461 462 463 464 465 467 469 470 472 473 474 475 476 477 479\n",
            " 480 481 482 483 484 485 486 487 488 489 491 492 493 494 495 496 498 499\n",
            " 500 501 502 504 505 506 507 509 510 511 512 514 516 517 518 519 520 521\n",
            " 522 523 524 525 526 527 528 529 530 531 532 533 535 536 537 538 539 540\n",
            " 541 543 544 545 546 547 548 549 550 551 552 553 554 555 556 557 558 559\n",
            " 560 561 563 565 566 567 568 569 570 571 572 573 574 575 576 577 578 579\n",
            " 580 581 582 584 585 586 587 588 589 590 591]\n",
            "Test Index:  [  7  15  22  25  26  37  43  64  71  72  86 126 129 141 144 155 178 196\n",
            " 209 215 235 252 254 264 276 279 281 282 297 313 316 319 336 356 357 367\n",
            " 381 387 390 393 398 431 454 456 466 468 471 478 490 497 503 508 513 515\n",
            " 534 542 562 564 583]\n",
            "\n",
            "\n"
          ],
          "name": "stdout"
        }
      ]
    },
    {
      "cell_type": "code",
      "metadata": {
        "id": "NshzR9UC3nJ9",
        "colab_type": "code",
        "outputId": "fa342d74-ee81-41fe-a58f-ca132001ede9",
        "colab": {
          "base_uri": "https://localhost:8080/",
          "height": 34
        }
      },
      "source": [
        "print(train_index.shape)"
      ],
      "execution_count": 0,
      "outputs": [
        {
          "output_type": "stream",
          "text": [
            "(533,)\n"
          ],
          "name": "stdout"
        }
      ]
    },
    {
      "cell_type": "code",
      "metadata": {
        "id": "xciBCVFPK1YF",
        "colab_type": "code",
        "outputId": "76d7e9da-eaeb-4f5d-a46a-9d33bc9b70b9",
        "colab": {
          "base_uri": "https://localhost:8080/",
          "height": 34
        }
      },
      "source": [
        "print(test_index.shape)"
      ],
      "execution_count": 0,
      "outputs": [
        {
          "output_type": "stream",
          "text": [
            "(59,)\n"
          ],
          "name": "stdout"
        }
      ]
    },
    {
      "cell_type": "code",
      "metadata": {
        "id": "XQG6EqTF3qgp",
        "colab_type": "code",
        "colab": {}
      },
      "source": [
        "X_train, X_test, y_train, y_test = Arr[train_index], Arr[test_index], Y[train_index], Y[test_index]"
      ],
      "execution_count": 0,
      "outputs": []
    },
    {
      "cell_type": "code",
      "metadata": {
        "id": "wm38wEeF3uDu",
        "colab_type": "code",
        "colab": {}
      },
      "source": [
        "from keras.losses import categorical_crossentropy\n",
        "from keras.optimizers import Adam\n",
        "model.compile(optimizer='adam', loss='categorical_crossentropy', metrics=['accuracy'])"
      ],
      "execution_count": 0,
      "outputs": []
    },
    {
      "cell_type": "code",
      "metadata": {
        "id": "r5xLt6qb3w3_",
        "colab_type": "code",
        "outputId": "6a01f0cb-d4a8-4c0d-b620-3a8ba538048d",
        "colab": {
          "base_uri": "https://localhost:8080/"
        }
      },
      "source": [
        "model.fit(X_train,y_train,epochs=10,verbose=1, validation_data=(X_test,y_test))"
      ],
      "execution_count": 0,
      "outputs": [
        {
          "output_type": "stream",
          "text": [
            "Train on 533 samples, validate on 59 samples\n",
            "Epoch 1/10\n",
            "533/533 [==============================] - 40s 74ms/step - loss: 2.8543 - accuracy: 0.6135 - val_loss: 5843.0170 - val_accuracy: 0.4915\n",
            "Epoch 2/10\n",
            "533/533 [==============================] - 23s 44ms/step - loss: 0.8486 - accuracy: 0.7917 - val_loss: 426.3419 - val_accuracy: 0.4746\n",
            "Epoch 3/10\n",
            "533/533 [==============================] - 23s 44ms/step - loss: 0.8149 - accuracy: 0.7917 - val_loss: 159.6758 - val_accuracy: 0.4746\n",
            "Epoch 4/10\n",
            "533/533 [==============================] - 23s 44ms/step - loss: 0.6267 - accuracy: 0.8349 - val_loss: 70.9679 - val_accuracy: 0.5932\n",
            "Epoch 5/10\n",
            "533/533 [==============================] - 23s 44ms/step - loss: 0.5908 - accuracy: 0.8649 - val_loss: 29.6725 - val_accuracy: 0.5593\n",
            "Epoch 6/10\n",
            "533/533 [==============================] - 23s 44ms/step - loss: 0.4847 - accuracy: 0.8987 - val_loss: 5.7398 - val_accuracy: 0.7119\n",
            "Epoch 7/10\n",
            "533/533 [==============================] - 23s 44ms/step - loss: 0.4473 - accuracy: 0.9174 - val_loss: 8.0813 - val_accuracy: 0.6271\n",
            "Epoch 8/10\n",
            "533/533 [==============================] - 23s 44ms/step - loss: 0.5425 - accuracy: 0.8799 - val_loss: 4.7099 - val_accuracy: 0.7288\n",
            "Epoch 9/10\n",
            "533/533 [==============================] - 23s 44ms/step - loss: 0.4737 - accuracy: 0.9156 - val_loss: 2.3268 - val_accuracy: 0.7119\n",
            "Epoch 10/10\n",
            "533/533 [==============================] - 23s 44ms/step - loss: 0.3598 - accuracy: 0.9587 - val_loss: 1.6140 - val_accuracy: 0.7966\n"
          ],
          "name": "stdout"
        },
        {
          "output_type": "execute_result",
          "data": {
            "text/plain": [
              "<keras.callbacks.callbacks.History at 0x7f06acab7518>"
            ]
          },
          "metadata": {
            "tags": []
          },
          "execution_count": 19
        }
      ]
    },
    {
      "cell_type": "code",
      "metadata": {
        "id": "3z0Q3J7D31gK",
        "colab_type": "code",
        "outputId": "6e98c069-e3c1-4c7e-ee15-e31147c9b14f",
        "colab": {
          "base_uri": "https://localhost:8080/",
          "height": 34
        }
      },
      "source": [
        "scores = model.evaluate(X_test, y_test, verbose=0)\n",
        "print(\"Accuracy: %.2f%%\" % (scores[1]*100))"
      ],
      "execution_count": 0,
      "outputs": [
        {
          "output_type": "stream",
          "text": [
            "Accuracy: 79.66%\n"
          ],
          "name": "stdout"
        }
      ]
    },
    {
      "cell_type": "code",
      "metadata": {
        "id": "d__d_Bs-gmhJ",
        "colab_type": "code",
        "colab": {}
      },
      "source": [
        "# testing a single photo\n",
        "photo_test=X_test[9]"
      ],
      "execution_count": 0,
      "outputs": []
    },
    {
      "cell_type": "code",
      "metadata": {
        "id": "iKOuMXCKgpkM",
        "colab_type": "code",
        "outputId": "6ffc8b3d-0e23-4909-fead-d846cdca0e14",
        "colab": {
          "base_uri": "https://localhost:8080/",
          "height": 314
        }
      },
      "source": [
        "from skimage.io import imread, imshow\n",
        "import matplotlib.pyplot as plt\n",
        "imshow(photo_test)\n",
        "print(\"Actual Image.\")"
      ],
      "execution_count": 0,
      "outputs": [
        {
          "output_type": "stream",
          "text": [
            "Actual Image.\n"
          ],
          "name": "stdout"
        },
        {
          "output_type": "display_data",
          "data": {
            "image/png": "[encoded data removed]",
            "text/plain": [
              "<Figure size 432x288 with 1 Axes>"
            ]
          },
          "metadata": {
            "tags": [],
            "needs_background": "light"
          }
        }
      ]
    },
    {
      "cell_type": "code",
      "metadata": {
        "id": "ioGGJoIHgqzH",
        "colab_type": "code",
        "outputId": "2dee260d-31bd-4c40-d88f-34aadafe4a2a",
        "colab": {
          "base_uri": "https://localhost:8080/",
          "height": 34
        }
      },
      "source": [
        "model.predict(X_test[9:10]) # model predicts this image as [1, 0] because probability is high at first position [66.52%,  33.47%]"
      ],
      "execution_count": 0,
      "outputs": [
        {
          "output_type": "execute_result",
          "data": {
            "text/plain": [
              "array([[0.9310597 , 0.06894029]], dtype=float32)"
            ]
          },
          "metadata": {
            "tags": []
          },
          "execution_count": 33
        }
      ]
    },
    {
      "cell_type": "code",
      "metadata": {
        "id": "DjkOfgmIgtQG",
        "colab_type": "code",
        "outputId": "89db0f55-2c0e-4a7a-de91-9d731a656a9e",
        "colab": {
          "base_uri": "https://localhost:8080/",
          "height": 34
        }
      },
      "source": [
        "y_test[9:10]   # this is actual true value [1, 0]. "
      ],
      "execution_count": 0,
      "outputs": [
        {
          "output_type": "execute_result",
          "data": {
            "text/plain": [
              "array([[1, 0]], dtype=uint8)"
            ]
          },
          "metadata": {
            "tags": []
          },
          "execution_count": 34
        }
      ]
    },
    {
      "cell_type": "markdown",
      "metadata": {
        "id": "k6xEwMcngwKU",
        "colab_type": "text"
      },
      "source": [
        "**So, the model predicted nearly correct :)** "
      ]
    }
  ]
}